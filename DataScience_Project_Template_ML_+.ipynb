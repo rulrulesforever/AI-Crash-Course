{
  "nbformat": 4,
  "nbformat_minor": 0,
  "metadata": {
    "kernelspec": {
      "display_name": "Python 3",
      "language": "python",
      "name": "python3"
    },
    "language_info": {
      "codemirror_mode": {
        "name": "ipython",
        "version": 3
      },
      "file_extension": ".py",
      "mimetype": "text/x-python",
      "name": "python",
      "nbconvert_exporter": "python",
      "pygments_lexer": "ipython3",
      "version": "3.7.3"
    },
    "colab": {
      "name": "DataScience_Project_Template_ML_+.ipynb",
      "provenance": [],
      "include_colab_link": true
    }
  },
  "cells": [
    {
      "cell_type": "markdown",
      "metadata": {
        "id": "view-in-github",
        "colab_type": "text"
      },
      "source": [
        "<a href=\"https://colab.research.google.com/github/rulrulesforever/AI-Crash-Course/blob/master/DataScience_Project_Template_ML_%2B.ipynb\" target=\"_parent\"><img src=\"https://colab.research.google.com/assets/colab-badge.svg\" alt=\"Open In Colab\"/></a>"
      ]
    },
    {
      "cell_type": "markdown",
      "metadata": {
        "id": "TAH8LxC8mKlQ"
      },
      "source": [
        "<div class=\"alert\" style=\"background-color:#696969; color:white; padding:0px 10px; border-radius:5px;\"><h3 style='margin:15px 15px; font-size:12px'> All Rights Reserved. This notebook is proprietary content of machinelearningplus.com. This can be shared solely for educational purposes, with due credits to machinelearningplus.com</h3>\n",
        "</div>\n",
        "\n"
      ]
    },
    {
      "cell_type": "markdown",
      "metadata": {
        "id": "7bUxUGzKmKlW"
      },
      "source": [
        "<div class=\"alert\" style=\"background-color:#fff; color:white; padding:0px 10px; border-radius:5px;\"><h1 style='margin:15px 15px; color:#006a79; font-size:40px'> Machine Learning Project Template</h1>\n",
        "</div>\n",
        "\n",
        "Just learning the concepts and theory is not sufficient to ace in machine learning. You need to implement the concepts and try to solve more practical problems.\n",
        "\n",
        "In this notebook, you will learn how to implement machine learning. You will be able to kickstart your project using this template"
      ]
    },
    {
      "cell_type": "markdown",
      "metadata": {
        "id": "yscD7s1FmKlX"
      },
      "source": [
        "### Content:\n",
        "1. Load the Data\n",
        "  - Import libraries\n",
        "  - Load the datasets\n",
        "  \n",
        "2. Overview of the Data\n",
        "  - Descriptive Statistics\n",
        "  - Missing Values\n",
        "  \n",
        "3. Exploratory Data Analysis\n",
        "  - Create list of columns by data type\n",
        "  - Check the distribution of target class\n",
        "  - Check the distribution of every feature\n",
        "  - Check how differnt numerical features are realated to target class\n",
        "  \n",
        "4. Data Preparation\n",
        "  - Data Cleaning\n",
        "  - Feature Encoding\n",
        "  - Split X & y\n",
        "  - Feature Scaling\n",
        "  - Train Test split\n",
        "  \n",
        "5. Model Building\n",
        "  - Train Model\n",
        "  - Model Prediction\n",
        "  - Model Evaluation\n",
        "  \n",
        "7. Improve Model\n",
        "  - Handle Class Imbalance\n",
        "  - Save the Final Model"
      ]
    },
    {
      "cell_type": "markdown",
      "metadata": {
        "id": "sCkw3xGSmKlX"
      },
      "source": [
        "<div class=\"alert alert-info\" style=\"background-color:#006a79; color:white; padding:0px 10px; border-radius:5px;\"><h2 style='margin:10px 5px'>1. Load the Data</h2>\n",
        "</div>\n",
        "\n",
        "In this section you will:\n",
        "\n",
        "- Import the libraries\n",
        "- Load the dataset"
      ]
    },
    {
      "cell_type": "markdown",
      "metadata": {
        "id": "TfRuQXpImKlX"
      },
      "source": [
        "### 1.1. Import Libraries\n",
        "\n",
        "Import all the libraries in the first cell itself"
      ]
    },
    {
      "cell_type": "code",
      "metadata": {
        "id": "AYc0S_82mKlY"
      },
      "source": [
        "# Import libraries \n",
        "\n",
        "# Data Manipulation\n",
        "import numpy as np \n",
        "import pandas as pd\n",
        "from pandas import DataFrame\n",
        "\n",
        "# Data Visualization\n",
        "import seaborn as sns\n",
        "import matplotlib.pyplot as plt\n",
        "\n",
        "\n",
        "# Machine Learning\n",
        "from sklearn.preprocessing import LabelEncoder, StandardScaler\n",
        "from sklearn.model_selection import train_test_split\n",
        "from sklearn.linear_model import LogisticRegression\n",
        "from sklearn.metrics import accuracy_score, confusion_matrix, classification_report\n",
        "from imblearn.over_sampling import RandomOverSampler\n",
        "import pickle\n",
        "\n",
        "# Maths\n",
        "import math\n",
        "\n",
        "# Set the options\n",
        "pd.set_option('display.max_rows', 800)\n",
        "pd.set_option('display.max_columns', 500)\n",
        "%matplotlib inline"
      ],
      "execution_count": null,
      "outputs": []
    },
    {
      "cell_type": "markdown",
      "metadata": {
        "id": "2m4Fv6H4mKlY"
      },
      "source": [
        "### 1.2. Load the datasets\n",
        "\n",
        "Load the dataset using pd.read_csv()"
      ]
    },
    {
      "cell_type": "code",
      "metadata": {
        "id": "4jCfo2NYmKlZ",
        "outputId": "215fbf04-e951-4171-a71a-68a5a2a53597"
      },
      "source": [
        "# Define the file name\n",
        "file_name = \"Churn_Modelling.csv\"\n",
        "\n",
        "# Read data in form of a csv file\n",
        "df = pd.read_csv(file_name)\n",
        "\n",
        "# First 5 rows of the dataset\n",
        "df.head()"
      ],
      "execution_count": null,
      "outputs": [
        {
          "output_type": "execute_result",
          "data": {
            "text/html": [
              "<div>\n",
              "<style scoped>\n",
              "    .dataframe tbody tr th:only-of-type {\n",
              "        vertical-align: middle;\n",
              "    }\n",
              "\n",
              "    .dataframe tbody tr th {\n",
              "        vertical-align: top;\n",
              "    }\n",
              "\n",
              "    .dataframe thead th {\n",
              "        text-align: right;\n",
              "    }\n",
              "</style>\n",
              "<table border=\"1\" class=\"dataframe\">\n",
              "  <thead>\n",
              "    <tr style=\"text-align: right;\">\n",
              "      <th></th>\n",
              "      <th>CustomerId</th>\n",
              "      <th>Surname</th>\n",
              "      <th>CreditScore</th>\n",
              "      <th>Geography</th>\n",
              "      <th>Gender</th>\n",
              "      <th>Age</th>\n",
              "      <th>Tenure</th>\n",
              "      <th>Balance</th>\n",
              "      <th>NumOfProducts</th>\n",
              "      <th>HasCrCard</th>\n",
              "      <th>IsActiveMember</th>\n",
              "      <th>EstimatedSalary</th>\n",
              "      <th>Exited</th>\n",
              "    </tr>\n",
              "  </thead>\n",
              "  <tbody>\n",
              "    <tr>\n",
              "      <th>0</th>\n",
              "      <td>15634602</td>\n",
              "      <td>Hargrave</td>\n",
              "      <td>619</td>\n",
              "      <td>France</td>\n",
              "      <td>Female</td>\n",
              "      <td>42.0</td>\n",
              "      <td>2</td>\n",
              "      <td>0.00</td>\n",
              "      <td>1</td>\n",
              "      <td>1</td>\n",
              "      <td>1</td>\n",
              "      <td>101348.88</td>\n",
              "      <td>1</td>\n",
              "    </tr>\n",
              "    <tr>\n",
              "      <th>1</th>\n",
              "      <td>15647311</td>\n",
              "      <td>Hill</td>\n",
              "      <td>608</td>\n",
              "      <td>Spain</td>\n",
              "      <td>Female</td>\n",
              "      <td>41.0</td>\n",
              "      <td>1</td>\n",
              "      <td>83807.86</td>\n",
              "      <td>1</td>\n",
              "      <td>0</td>\n",
              "      <td>1</td>\n",
              "      <td>112542.58</td>\n",
              "      <td>0</td>\n",
              "    </tr>\n",
              "    <tr>\n",
              "      <th>2</th>\n",
              "      <td>15619304</td>\n",
              "      <td>Onio</td>\n",
              "      <td>502</td>\n",
              "      <td>France</td>\n",
              "      <td>Female</td>\n",
              "      <td>42.0</td>\n",
              "      <td>8</td>\n",
              "      <td>159660.80</td>\n",
              "      <td>3</td>\n",
              "      <td>1</td>\n",
              "      <td>0</td>\n",
              "      <td>113931.57</td>\n",
              "      <td>1</td>\n",
              "    </tr>\n",
              "    <tr>\n",
              "      <th>3</th>\n",
              "      <td>15701354</td>\n",
              "      <td>Boni</td>\n",
              "      <td>699</td>\n",
              "      <td>France</td>\n",
              "      <td>Female</td>\n",
              "      <td>39.0</td>\n",
              "      <td>1</td>\n",
              "      <td>0.00</td>\n",
              "      <td>2</td>\n",
              "      <td>0</td>\n",
              "      <td>0</td>\n",
              "      <td>93826.63</td>\n",
              "      <td>0</td>\n",
              "    </tr>\n",
              "    <tr>\n",
              "      <th>4</th>\n",
              "      <td>15737888</td>\n",
              "      <td>Mitchell</td>\n",
              "      <td>850</td>\n",
              "      <td>Spain</td>\n",
              "      <td>Female</td>\n",
              "      <td>43.0</td>\n",
              "      <td>2</td>\n",
              "      <td>125510.82</td>\n",
              "      <td>1</td>\n",
              "      <td>1</td>\n",
              "      <td>1</td>\n",
              "      <td>79084.10</td>\n",
              "      <td>0</td>\n",
              "    </tr>\n",
              "  </tbody>\n",
              "</table>\n",
              "</div>"
            ],
            "text/plain": [
              "   CustomerId   Surname  CreditScore Geography  Gender   Age  Tenure  \\\n",
              "0    15634602  Hargrave          619    France  Female  42.0       2   \n",
              "1    15647311      Hill          608     Spain  Female  41.0       1   \n",
              "2    15619304      Onio          502    France  Female  42.0       8   \n",
              "3    15701354      Boni          699    France  Female  39.0       1   \n",
              "4    15737888  Mitchell          850     Spain  Female  43.0       2   \n",
              "\n",
              "     Balance  NumOfProducts  HasCrCard  IsActiveMember  EstimatedSalary  \\\n",
              "0       0.00              1          1               1        101348.88   \n",
              "1   83807.86              1          0               1        112542.58   \n",
              "2  159660.80              3          1               0        113931.57   \n",
              "3       0.00              2          0               0         93826.63   \n",
              "4  125510.82              1          1               1         79084.10   \n",
              "\n",
              "   Exited  \n",
              "0       1  \n",
              "1       0  \n",
              "2       1  \n",
              "3       0  \n",
              "4       0  "
            ]
          },
          "metadata": {
            "tags": []
          },
          "execution_count": 2
        }
      ]
    },
    {
      "cell_type": "markdown",
      "metadata": {
        "id": "0dfmSjyFmKla"
      },
      "source": [
        "<div class=\"alert alert-info\" style=\"background-color:#006a79; color:white; padding:0px 10px; border-radius:5px;\"><h2 style='margin:10px 5px'>2. Overview of the Data</h2>\n",
        "</div>\n",
        "\n",
        "Before attempting to solve the problem, it's very important to have a good understanding of data.\n",
        "\n",
        "In this section you will:\n",
        "- Get the descriptive statistics of the data\n",
        "- Get the information about missing values in the data"
      ]
    },
    {
      "cell_type": "markdown",
      "metadata": {
        "id": "2aaVMWENmKlb"
      },
      "source": [
        "### 2.1. Descriptive Statistics\n",
        "\n",
        "As the name says descriptive statistics describes the data. It gives you information about\n",
        "- Mean, median, mode \n",
        "- Min, max\n",
        "- Count etc\n",
        "\n",
        "Let's understand the data we have"
      ]
    },
    {
      "cell_type": "code",
      "metadata": {
        "id": "Ea471RvomKlb",
        "outputId": "dc4f1563-fa49-40e0-cc98-a19f0e7ea22a"
      },
      "source": [
        "# Dimension of the data\n",
        "df.shape"
      ],
      "execution_count": null,
      "outputs": [
        {
          "output_type": "execute_result",
          "data": {
            "text/plain": [
              "(10000, 13)"
            ]
          },
          "metadata": {
            "tags": []
          },
          "execution_count": 3
        }
      ]
    },
    {
      "cell_type": "code",
      "metadata": {
        "id": "DTZAM_qWmKlb",
        "outputId": "93424de8-e227-4387-8805-0c62b0ef0540"
      },
      "source": [
        "# Summary of the dataset\n",
        "df.describe()"
      ],
      "execution_count": null,
      "outputs": [
        {
          "output_type": "execute_result",
          "data": {
            "text/html": [
              "<div>\n",
              "<style scoped>\n",
              "    .dataframe tbody tr th:only-of-type {\n",
              "        vertical-align: middle;\n",
              "    }\n",
              "\n",
              "    .dataframe tbody tr th {\n",
              "        vertical-align: top;\n",
              "    }\n",
              "\n",
              "    .dataframe thead th {\n",
              "        text-align: right;\n",
              "    }\n",
              "</style>\n",
              "<table border=\"1\" class=\"dataframe\">\n",
              "  <thead>\n",
              "    <tr style=\"text-align: right;\">\n",
              "      <th></th>\n",
              "      <th>CustomerId</th>\n",
              "      <th>CreditScore</th>\n",
              "      <th>Age</th>\n",
              "      <th>Tenure</th>\n",
              "      <th>Balance</th>\n",
              "      <th>NumOfProducts</th>\n",
              "      <th>HasCrCard</th>\n",
              "      <th>IsActiveMember</th>\n",
              "      <th>EstimatedSalary</th>\n",
              "      <th>Exited</th>\n",
              "    </tr>\n",
              "  </thead>\n",
              "  <tbody>\n",
              "    <tr>\n",
              "      <th>count</th>\n",
              "      <td>1.000000e+04</td>\n",
              "      <td>10000.000000</td>\n",
              "      <td>9985.000000</td>\n",
              "      <td>10000.000000</td>\n",
              "      <td>10000.000000</td>\n",
              "      <td>10000.000000</td>\n",
              "      <td>10000.00000</td>\n",
              "      <td>10000.000000</td>\n",
              "      <td>10000.000000</td>\n",
              "      <td>10000.000000</td>\n",
              "    </tr>\n",
              "    <tr>\n",
              "      <th>mean</th>\n",
              "      <td>1.569094e+07</td>\n",
              "      <td>650.528800</td>\n",
              "      <td>38.922684</td>\n",
              "      <td>5.012800</td>\n",
              "      <td>76485.889288</td>\n",
              "      <td>1.530200</td>\n",
              "      <td>0.70550</td>\n",
              "      <td>0.515100</td>\n",
              "      <td>100090.239881</td>\n",
              "      <td>0.203700</td>\n",
              "    </tr>\n",
              "    <tr>\n",
              "      <th>std</th>\n",
              "      <td>7.193619e+04</td>\n",
              "      <td>96.653299</td>\n",
              "      <td>10.488949</td>\n",
              "      <td>2.892174</td>\n",
              "      <td>62397.405202</td>\n",
              "      <td>0.581654</td>\n",
              "      <td>0.45584</td>\n",
              "      <td>0.499797</td>\n",
              "      <td>57510.492818</td>\n",
              "      <td>0.402769</td>\n",
              "    </tr>\n",
              "    <tr>\n",
              "      <th>min</th>\n",
              "      <td>1.556570e+07</td>\n",
              "      <td>350.000000</td>\n",
              "      <td>18.000000</td>\n",
              "      <td>0.000000</td>\n",
              "      <td>0.000000</td>\n",
              "      <td>1.000000</td>\n",
              "      <td>0.00000</td>\n",
              "      <td>0.000000</td>\n",
              "      <td>11.580000</td>\n",
              "      <td>0.000000</td>\n",
              "    </tr>\n",
              "    <tr>\n",
              "      <th>25%</th>\n",
              "      <td>1.562853e+07</td>\n",
              "      <td>584.000000</td>\n",
              "      <td>32.000000</td>\n",
              "      <td>3.000000</td>\n",
              "      <td>0.000000</td>\n",
              "      <td>1.000000</td>\n",
              "      <td>0.00000</td>\n",
              "      <td>0.000000</td>\n",
              "      <td>51002.110000</td>\n",
              "      <td>0.000000</td>\n",
              "    </tr>\n",
              "    <tr>\n",
              "      <th>50%</th>\n",
              "      <td>1.569074e+07</td>\n",
              "      <td>652.000000</td>\n",
              "      <td>37.000000</td>\n",
              "      <td>5.000000</td>\n",
              "      <td>97198.540000</td>\n",
              "      <td>1.000000</td>\n",
              "      <td>1.00000</td>\n",
              "      <td>1.000000</td>\n",
              "      <td>100193.915000</td>\n",
              "      <td>0.000000</td>\n",
              "    </tr>\n",
              "    <tr>\n",
              "      <th>75%</th>\n",
              "      <td>1.575323e+07</td>\n",
              "      <td>718.000000</td>\n",
              "      <td>44.000000</td>\n",
              "      <td>7.000000</td>\n",
              "      <td>127644.240000</td>\n",
              "      <td>2.000000</td>\n",
              "      <td>1.00000</td>\n",
              "      <td>1.000000</td>\n",
              "      <td>149388.247500</td>\n",
              "      <td>0.000000</td>\n",
              "    </tr>\n",
              "    <tr>\n",
              "      <th>max</th>\n",
              "      <td>1.581569e+07</td>\n",
              "      <td>850.000000</td>\n",
              "      <td>92.000000</td>\n",
              "      <td>10.000000</td>\n",
              "      <td>250898.090000</td>\n",
              "      <td>4.000000</td>\n",
              "      <td>1.00000</td>\n",
              "      <td>1.000000</td>\n",
              "      <td>199992.480000</td>\n",
              "      <td>1.000000</td>\n",
              "    </tr>\n",
              "  </tbody>\n",
              "</table>\n",
              "</div>"
            ],
            "text/plain": [
              "         CustomerId   CreditScore          Age        Tenure        Balance  \\\n",
              "count  1.000000e+04  10000.000000  9985.000000  10000.000000   10000.000000   \n",
              "mean   1.569094e+07    650.528800    38.922684      5.012800   76485.889288   \n",
              "std    7.193619e+04     96.653299    10.488949      2.892174   62397.405202   \n",
              "min    1.556570e+07    350.000000    18.000000      0.000000       0.000000   \n",
              "25%    1.562853e+07    584.000000    32.000000      3.000000       0.000000   \n",
              "50%    1.569074e+07    652.000000    37.000000      5.000000   97198.540000   \n",
              "75%    1.575323e+07    718.000000    44.000000      7.000000  127644.240000   \n",
              "max    1.581569e+07    850.000000    92.000000     10.000000  250898.090000   \n",
              "\n",
              "       NumOfProducts    HasCrCard  IsActiveMember  EstimatedSalary  \\\n",
              "count   10000.000000  10000.00000    10000.000000     10000.000000   \n",
              "mean        1.530200      0.70550        0.515100    100090.239881   \n",
              "std         0.581654      0.45584        0.499797     57510.492818   \n",
              "min         1.000000      0.00000        0.000000        11.580000   \n",
              "25%         1.000000      0.00000        0.000000     51002.110000   \n",
              "50%         1.000000      1.00000        1.000000    100193.915000   \n",
              "75%         2.000000      1.00000        1.000000    149388.247500   \n",
              "max         4.000000      1.00000        1.000000    199992.480000   \n",
              "\n",
              "             Exited  \n",
              "count  10000.000000  \n",
              "mean       0.203700  \n",
              "std        0.402769  \n",
              "min        0.000000  \n",
              "25%        0.000000  \n",
              "50%        0.000000  \n",
              "75%        0.000000  \n",
              "max        1.000000  "
            ]
          },
          "metadata": {
            "tags": []
          },
          "execution_count": 4
        }
      ]
    },
    {
      "cell_type": "markdown",
      "metadata": {
        "id": "s1mk8gU5mKlc"
      },
      "source": [
        "### 2.2 Missing Values\n",
        "\n",
        "Get the info about missing values in the dataframe"
      ]
    },
    {
      "cell_type": "code",
      "metadata": {
        "id": "QtwmQUnEmKlc",
        "outputId": "d39b677d-ef2a-4ceb-9ccf-66cc2c099033"
      },
      "source": [
        "# Missing values for every column\n",
        "df.isna().sum()"
      ],
      "execution_count": null,
      "outputs": [
        {
          "output_type": "execute_result",
          "data": {
            "text/plain": [
              "CustomerId          0\n",
              "Surname             0\n",
              "CreditScore         0\n",
              "Geography           0\n",
              "Gender              0\n",
              "Age                15\n",
              "Tenure              0\n",
              "Balance             0\n",
              "NumOfProducts       0\n",
              "HasCrCard           0\n",
              "IsActiveMember      0\n",
              "EstimatedSalary     0\n",
              "Exited              0\n",
              "dtype: int64"
            ]
          },
          "metadata": {
            "tags": []
          },
          "execution_count": 5
        }
      ]
    },
    {
      "cell_type": "markdown",
      "metadata": {
        "id": "4AccPZcOmKlc"
      },
      "source": [
        "<div class=\"alert alert-info\" style=\"background-color:#006a79; color:white; padding:0px 10px; border-radius:5px;\"><h2 style='margin:10px 5px'>3. Exploratory Data Analaysis</h2>\n",
        "</div>\n",
        "\n",
        "Exploratory data analysis is an approach to analyze or investigate data sets to find out patterns and see if any of the variables can be useful in predicting the y variables. Visual methods are often used to summarise the data. Primarily EDA is for seeing what the data can tell us beyond the formal modeling or hypothesis testing tasks.\n",
        "\n",
        "In this section you will:\n",
        "- Create list of columns by data type\n",
        "- Check the distribution of target class\n",
        "- Check the distribution of every feature\n",
        "- Check how differnt numerical features are realated to target class"
      ]
    },
    {
      "cell_type": "markdown",
      "metadata": {
        "id": "uHIniUlXmKld"
      },
      "source": [
        "### 3.1. Extract data types of columns\n",
        "\n",
        "It's better to get the list of columns by data types in the start itself. You won't have to manually write the name of columns while performing certain operations. So always get the list of columns in the start itself."
      ]
    },
    {
      "cell_type": "code",
      "metadata": {
        "id": "y0k93nZumKld"
      },
      "source": [
        "# Remove extra columns\n",
        "col_remove = ['CustomerId']\n",
        "df = df.drop(col_remove, axis = 1)"
      ],
      "execution_count": null,
      "outputs": []
    },
    {
      "cell_type": "code",
      "metadata": {
        "id": "GvJU7wjZmKld",
        "outputId": "68e65ae7-79b9-40b7-e2b1-d12af63f0109"
      },
      "source": [
        "# List of numeric and categorical columns\n",
        "binary_columns = [col for col in df.columns if df[col].nunique() == 2]\n",
        "print(\"Binary Columns : \", binary_columns)\n",
        "\n",
        "categorical_columns = [col for col in df.columns if df[col].dtype == \"object\"]\n",
        "print(\"Categorical Columns : \", categorical_columns)\n",
        "\n",
        "categorical_columns = binary_columns + categorical_columns\n",
        "categorical_columns = list(set(categorical_columns))\n",
        "\n",
        "numerical_columns = [col for col in df.columns if col not in categorical_columns]\n",
        "print(\"Numerical Columns : \", numerical_columns)"
      ],
      "execution_count": null,
      "outputs": [
        {
          "output_type": "stream",
          "text": [
            "Binary Columns :  ['Gender', 'HasCrCard', 'IsActiveMember', 'Exited']\n",
            "Categorical Columns :  ['Surname', 'Geography', 'Gender']\n",
            "Numerical Columns :  ['CreditScore', 'Age', 'Tenure', 'Balance', 'NumOfProducts', 'EstimatedSalary']\n"
          ],
          "name": "stdout"
        }
      ]
    },
    {
      "cell_type": "markdown",
      "metadata": {
        "id": "iJd_S9UimKle"
      },
      "source": [
        "**Note :** There might be some mismatch in the data type of the columns, so in such cases you will have to correct it manually"
      ]
    },
    {
      "cell_type": "markdown",
      "metadata": {
        "id": "iREtcJkHmKle"
      },
      "source": [
        "### 3.2 Check distribution of target class\n",
        "\n",
        "You need to check the distribution of target class, see how many categories are there, is it balanced or not"
      ]
    },
    {
      "cell_type": "code",
      "metadata": {
        "id": "zAnLFqA7mKle",
        "outputId": "c9b4d581-936d-4359-c566-6c74e233e6da"
      },
      "source": [
        "# Target class\n",
        "target_class = \"Exited\"\n",
        "\n",
        "# Check distribution of target class\n",
        "sns.countplot(y=df[target_class] ,data=df)\n",
        "plt.xlabel(\"Count of each Target class\")\n",
        "plt.ylabel(\"Target classes\")\n",
        "plt.show()"
      ],
      "execution_count": null,
      "outputs": [
        {
          "output_type": "display_data",
          "data": {
            "image/png": "[encoded data removed]",
            "text/plain": [
              "<Figure size 432x288 with 1 Axes>"
            ]
          },
          "metadata": {
            "tags": [],
            "needs_background": "light"
          }
        }
      ]
    },
    {
      "cell_type": "markdown",
      "metadata": {
        "id": "pwNmIO2amKlf"
      },
      "source": [
        "### 3.3. Check the distribution of every feature"
      ]
    },
    {
      "cell_type": "code",
      "metadata": {
        "id": "kG3yK35LmKlf",
        "outputId": "061aba4d-e5b2-4f13-88bc-99efb81cea99"
      },
      "source": [
        "# Check the distribution of all the features\n",
        "df.hist(figsize=(15,12),bins = 15)\n",
        "plt.title(\"Features Distribution\")\n",
        "plt.show()"
      ],
      "execution_count": null,
      "outputs": [
        {
          "output_type": "display_data",
          "data": {
            "image/png": "[encoded data removed]",
            "text/plain": [
              "<Figure size 1080x864 with 9 Axes>"
            ]
          },
          "metadata": {
            "tags": [],
            "needs_background": "light"
          }
        }
      ]
    },
    {
      "cell_type": "markdown",
      "metadata": {
        "id": "dVKoUkNKmKlf"
      },
      "source": [
        "### 3.4 Check how differnt numerical features are realated to target class"
      ]
    },
    {
      "cell_type": "code",
      "metadata": {
        "id": "qaWDjmJkmKlg"
      },
      "source": [
        "# Number of rows and columns in the plot\n",
        "n_cols = 3\n",
        "n_rows = math.ceil(len(numerical_columns)/n_cols)"
      ],
      "execution_count": null,
      "outputs": []
    },
    {
      "cell_type": "code",
      "metadata": {
        "id": "ovbwkGnymKlg",
        "outputId": "2615384b-da79-4080-9c41-fbf401f2ecaf"
      },
      "source": [
        "# Check the distribution of y variable corresponding to every x variable \n",
        "fig,ax = plt.subplots(nrows = n_rows, ncols = n_cols, figsize=(30,30))\n",
        "row = 0\n",
        "col = 0\n",
        "for i in numerical_columns:\n",
        "    if col > 2:\n",
        "        row += 1\n",
        "        col = 0\n",
        "    axes = ax[row,col]\n",
        "    sns.boxplot(x = df[target_class], y = df[i],ax = axes)\n",
        "    col += 1\n",
        "plt.tight_layout()\n",
        "plt.title(\"Individual Features by Class\")\n",
        "plt.show()"
      ],
      "execution_count": null,
      "outputs": [
        {
          "output_type": "display_data",
          "data": {
            "image/png": "[encoded data removed]",
            "text/plain": [
              "<Figure size 2160x2160 with 6 Axes>"
            ]
          },
          "metadata": {
            "tags": [],
            "needs_background": "light"
          }
        }
      ]
    },
    {
      "cell_type": "markdown",
      "metadata": {
        "id": "DHzHJ6SgmKlg"
      },
      "source": [
        "<div class=\"alert alert-info\" style=\"background-color:#006a79; color:white; padding:0px 10px; border-radius:5px;\"><h2 style='margin:10px 5px'>4. Data Preparation</h2>\n",
        "</div>\n",
        "\n",
        "The data is not yet ready for model building. You need to process the data and make it ready for model building\n",
        "\n",
        "In this section you will:\n",
        "- Clean the data\n",
        "- Encode the categorical features\n",
        "- Split the dataset in X and y dataset\n",
        "- Scale the features\n",
        "- Split the data in train and test set"
      ]
    },
    {
      "cell_type": "markdown",
      "metadata": {
        "id": "3MfJzOcDmKlh"
      },
      "source": [
        "### 4.1. Data Cleaning\n",
        "\n",
        "Machine Learning works on the idea of garbage in - garbage out. If you feed in dirty data, the results won't be good. Hence it's very important to clean the data before training the model\n",
        "\n",
        "Here you will impute the missing values with mean"
      ]
    },
    {
      "cell_type": "code",
      "metadata": {
        "id": "lNbyRBZkmKlh"
      },
      "source": [
        "# Impute missing values\n",
        "df = df.fillna(df.mean())"
      ],
      "execution_count": null,
      "outputs": []
    },
    {
      "cell_type": "code",
      "metadata": {
        "id": "uZXJ7bL9mKlh",
        "outputId": "45b7fb28-7af6-436c-dc08-395ebf7de311"
      },
      "source": [
        "df.head()"
      ],
      "execution_count": null,
      "outputs": [
        {
          "output_type": "execute_result",
          "data": {
            "text/html": [
              "<div>\n",
              "<style scoped>\n",
              "    .dataframe tbody tr th:only-of-type {\n",
              "        vertical-align: middle;\n",
              "    }\n",
              "\n",
              "    .dataframe tbody tr th {\n",
              "        vertical-align: top;\n",
              "    }\n",
              "\n",
              "    .dataframe thead th {\n",
              "        text-align: right;\n",
              "    }\n",
              "</style>\n",
              "<table border=\"1\" class=\"dataframe\">\n",
              "  <thead>\n",
              "    <tr style=\"text-align: right;\">\n",
              "      <th></th>\n",
              "      <th>Surname</th>\n",
              "      <th>CreditScore</th>\n",
              "      <th>Geography</th>\n",
              "      <th>Gender</th>\n",
              "      <th>Age</th>\n",
              "      <th>Tenure</th>\n",
              "      <th>Balance</th>\n",
              "      <th>NumOfProducts</th>\n",
              "      <th>HasCrCard</th>\n",
              "      <th>IsActiveMember</th>\n",
              "      <th>EstimatedSalary</th>\n",
              "      <th>Exited</th>\n",
              "    </tr>\n",
              "  </thead>\n",
              "  <tbody>\n",
              "    <tr>\n",
              "      <th>0</th>\n",
              "      <td>Hargrave</td>\n",
              "      <td>619</td>\n",
              "      <td>France</td>\n",
              "      <td>Female</td>\n",
              "      <td>42.0</td>\n",
              "      <td>2</td>\n",
              "      <td>0.00</td>\n",
              "      <td>1</td>\n",
              "      <td>1</td>\n",
              "      <td>1</td>\n",
              "      <td>101348.88</td>\n",
              "      <td>1</td>\n",
              "    </tr>\n",
              "    <tr>\n",
              "      <th>1</th>\n",
              "      <td>Hill</td>\n",
              "      <td>608</td>\n",
              "      <td>Spain</td>\n",
              "      <td>Female</td>\n",
              "      <td>41.0</td>\n",
              "      <td>1</td>\n",
              "      <td>83807.86</td>\n",
              "      <td>1</td>\n",
              "      <td>0</td>\n",
              "      <td>1</td>\n",
              "      <td>112542.58</td>\n",
              "      <td>0</td>\n",
              "    </tr>\n",
              "    <tr>\n",
              "      <th>2</th>\n",
              "      <td>Onio</td>\n",
              "      <td>502</td>\n",
              "      <td>France</td>\n",
              "      <td>Female</td>\n",
              "      <td>42.0</td>\n",
              "      <td>8</td>\n",
              "      <td>159660.80</td>\n",
              "      <td>3</td>\n",
              "      <td>1</td>\n",
              "      <td>0</td>\n",
              "      <td>113931.57</td>\n",
              "      <td>1</td>\n",
              "    </tr>\n",
              "    <tr>\n",
              "      <th>3</th>\n",
              "      <td>Boni</td>\n",
              "      <td>699</td>\n",
              "      <td>France</td>\n",
              "      <td>Female</td>\n",
              "      <td>39.0</td>\n",
              "      <td>1</td>\n",
              "      <td>0.00</td>\n",
              "      <td>2</td>\n",
              "      <td>0</td>\n",
              "      <td>0</td>\n",
              "      <td>93826.63</td>\n",
              "      <td>0</td>\n",
              "    </tr>\n",
              "    <tr>\n",
              "      <th>4</th>\n",
              "      <td>Mitchell</td>\n",
              "      <td>850</td>\n",
              "      <td>Spain</td>\n",
              "      <td>Female</td>\n",
              "      <td>43.0</td>\n",
              "      <td>2</td>\n",
              "      <td>125510.82</td>\n",
              "      <td>1</td>\n",
              "      <td>1</td>\n",
              "      <td>1</td>\n",
              "      <td>79084.10</td>\n",
              "      <td>0</td>\n",
              "    </tr>\n",
              "  </tbody>\n",
              "</table>\n",
              "</div>"
            ],
            "text/plain": [
              "    Surname  CreditScore Geography  Gender   Age  Tenure    Balance  \\\n",
              "0  Hargrave          619    France  Female  42.0       2       0.00   \n",
              "1      Hill          608     Spain  Female  41.0       1   83807.86   \n",
              "2      Onio          502    France  Female  42.0       8  159660.80   \n",
              "3      Boni          699    France  Female  39.0       1       0.00   \n",
              "4  Mitchell          850     Spain  Female  43.0       2  125510.82   \n",
              "\n",
              "   NumOfProducts  HasCrCard  IsActiveMember  EstimatedSalary  Exited  \n",
              "0              1          1               1        101348.88       1  \n",
              "1              1          0               1        112542.58       0  \n",
              "2              3          1               0        113931.57       1  \n",
              "3              2          0               0         93826.63       0  \n",
              "4              1          1               1         79084.10       0  "
            ]
          },
          "metadata": {
            "tags": []
          },
          "execution_count": 13
        }
      ]
    },
    {
      "cell_type": "markdown",
      "metadata": {
        "id": "jV-Zs3XXmKlh"
      },
      "source": [
        "### 4.2. Feature Encoding\n",
        "\n",
        "Encoding is the process of converting data from one form to another. Most of the Machine learning algorithms can not handle categorical values unless we convert them to numerical values. Many algorithm’s performances vary based on how Categorical columns are encoded."
      ]
    },
    {
      "cell_type": "code",
      "metadata": {
        "id": "E_sspft_mKli",
        "outputId": "f0d8060b-0567-4742-b9ee-7c3f3ceea85c"
      },
      "source": [
        "# Label encode the variables\n",
        "for col in categorical_columns:\n",
        "    lbl     = LabelEncoder()\n",
        "    lbl.fit(list(df[col].values))\n",
        "    df[col] = lbl.transform(list(df[col].values))\n",
        "    \n",
        "df.head()"
      ],
      "execution_count": null,
      "outputs": [
        {
          "output_type": "execute_result",
          "data": {
            "text/html": [
              "<div>\n",
              "<style scoped>\n",
              "    .dataframe tbody tr th:only-of-type {\n",
              "        vertical-align: middle;\n",
              "    }\n",
              "\n",
              "    .dataframe tbody tr th {\n",
              "        vertical-align: top;\n",
              "    }\n",
              "\n",
              "    .dataframe thead th {\n",
              "        text-align: right;\n",
              "    }\n",
              "</style>\n",
              "<table border=\"1\" class=\"dataframe\">\n",
              "  <thead>\n",
              "    <tr style=\"text-align: right;\">\n",
              "      <th></th>\n",
              "      <th>Surname</th>\n",
              "      <th>CreditScore</th>\n",
              "      <th>Geography</th>\n",
              "      <th>Gender</th>\n",
              "      <th>Age</th>\n",
              "      <th>Tenure</th>\n",
              "      <th>Balance</th>\n",
              "      <th>NumOfProducts</th>\n",
              "      <th>HasCrCard</th>\n",
              "      <th>IsActiveMember</th>\n",
              "      <th>EstimatedSalary</th>\n",
              "      <th>Exited</th>\n",
              "    </tr>\n",
              "  </thead>\n",
              "  <tbody>\n",
              "    <tr>\n",
              "      <th>0</th>\n",
              "      <td>1115</td>\n",
              "      <td>619</td>\n",
              "      <td>0</td>\n",
              "      <td>0</td>\n",
              "      <td>42.0</td>\n",
              "      <td>2</td>\n",
              "      <td>0.00</td>\n",
              "      <td>1</td>\n",
              "      <td>1</td>\n",
              "      <td>1</td>\n",
              "      <td>101348.88</td>\n",
              "      <td>1</td>\n",
              "    </tr>\n",
              "    <tr>\n",
              "      <th>1</th>\n",
              "      <td>1177</td>\n",
              "      <td>608</td>\n",
              "      <td>2</td>\n",
              "      <td>0</td>\n",
              "      <td>41.0</td>\n",
              "      <td>1</td>\n",
              "      <td>83807.86</td>\n",
              "      <td>1</td>\n",
              "      <td>0</td>\n",
              "      <td>1</td>\n",
              "      <td>112542.58</td>\n",
              "      <td>0</td>\n",
              "    </tr>\n",
              "    <tr>\n",
              "      <th>2</th>\n",
              "      <td>2040</td>\n",
              "      <td>502</td>\n",
              "      <td>0</td>\n",
              "      <td>0</td>\n",
              "      <td>42.0</td>\n",
              "      <td>8</td>\n",
              "      <td>159660.80</td>\n",
              "      <td>3</td>\n",
              "      <td>1</td>\n",
              "      <td>0</td>\n",
              "      <td>113931.57</td>\n",
              "      <td>1</td>\n",
              "    </tr>\n",
              "    <tr>\n",
              "      <th>3</th>\n",
              "      <td>289</td>\n",
              "      <td>699</td>\n",
              "      <td>0</td>\n",
              "      <td>0</td>\n",
              "      <td>39.0</td>\n",
              "      <td>1</td>\n",
              "      <td>0.00</td>\n",
              "      <td>2</td>\n",
              "      <td>0</td>\n",
              "      <td>0</td>\n",
              "      <td>93826.63</td>\n",
              "      <td>0</td>\n",
              "    </tr>\n",
              "    <tr>\n",
              "      <th>4</th>\n",
              "      <td>1822</td>\n",
              "      <td>850</td>\n",
              "      <td>2</td>\n",
              "      <td>0</td>\n",
              "      <td>43.0</td>\n",
              "      <td>2</td>\n",
              "      <td>125510.82</td>\n",
              "      <td>1</td>\n",
              "      <td>1</td>\n",
              "      <td>1</td>\n",
              "      <td>79084.10</td>\n",
              "      <td>0</td>\n",
              "    </tr>\n",
              "  </tbody>\n",
              "</table>\n",
              "</div>"
            ],
            "text/plain": [
              "   Surname  CreditScore  Geography  Gender   Age  Tenure    Balance  \\\n",
              "0     1115          619          0       0  42.0       2       0.00   \n",
              "1     1177          608          2       0  41.0       1   83807.86   \n",
              "2     2040          502          0       0  42.0       8  159660.80   \n",
              "3      289          699          0       0  39.0       1       0.00   \n",
              "4     1822          850          2       0  43.0       2  125510.82   \n",
              "\n",
              "   NumOfProducts  HasCrCard  IsActiveMember  EstimatedSalary  Exited  \n",
              "0              1          1               1        101348.88       1  \n",
              "1              1          0               1        112542.58       0  \n",
              "2              3          1               0        113931.57       1  \n",
              "3              2          0               0         93826.63       0  \n",
              "4              1          1               1         79084.10       0  "
            ]
          },
          "metadata": {
            "tags": []
          },
          "execution_count": 14
        }
      ]
    },
    {
      "cell_type": "markdown",
      "metadata": {
        "id": "X_Jsd3J5mKli"
      },
      "source": [
        "### 4.3. Split X and y\n",
        "\n",
        "Split the X and y dataset"
      ]
    },
    {
      "cell_type": "code",
      "metadata": {
        "id": "LA9qBROJmKli"
      },
      "source": [
        "# Split the y variable series and x variables dataset\n",
        "X = df.drop([target_class],axis=1)\n",
        "y = df[target_class]"
      ],
      "execution_count": null,
      "outputs": []
    },
    {
      "cell_type": "markdown",
      "metadata": {
        "id": "YMfSxcSnmKlj"
      },
      "source": [
        "### 4.4. Feature Scaling\n",
        "\n",
        "It is a technique to standardize the x variables (features) present in the data in a fixed range. It needs to be done before training the model.\n",
        "\n",
        "But if you are using tree based models, you should not go for feature scaling"
      ]
    },
    {
      "cell_type": "code",
      "metadata": {
        "id": "dpVRVs3cmKlj"
      },
      "source": [
        "# Define the function to scale the data using StandardScaler()\n",
        "def scale_data(data):\n",
        "    \n",
        "    scaler = StandardScaler() \n",
        "\n",
        "    # transform data\n",
        "    scaled_data = scaler.fit_transform(data)\n",
        "    scaled_data = DataFrame(scaled_data)\n",
        "\n",
        "    scaled_data.columns = data.columns\n",
        "    \n",
        "    return scaled_data"
      ],
      "execution_count": null,
      "outputs": []
    },
    {
      "cell_type": "code",
      "metadata": {
        "id": "lgZveqmfmKlj",
        "outputId": "59b05ce1-820b-4c42-ec7f-ce6ae8dabc35"
      },
      "source": [
        "# Scale X dataset\n",
        "scaled_X = scale_data(X)\n",
        "scaled_X.head()"
      ],
      "execution_count": null,
      "outputs": [
        {
          "output_type": "execute_result",
          "data": {
            "text/html": [
              "<div>\n",
              "<style scoped>\n",
              "    .dataframe tbody tr th:only-of-type {\n",
              "        vertical-align: middle;\n",
              "    }\n",
              "\n",
              "    .dataframe tbody tr th {\n",
              "        vertical-align: top;\n",
              "    }\n",
              "\n",
              "    .dataframe thead th {\n",
              "        text-align: right;\n",
              "    }\n",
              "</style>\n",
              "<table border=\"1\" class=\"dataframe\">\n",
              "  <thead>\n",
              "    <tr style=\"text-align: right;\">\n",
              "      <th></th>\n",
              "      <th>Surname</th>\n",
              "      <th>CreditScore</th>\n",
              "      <th>Geography</th>\n",
              "      <th>Gender</th>\n",
              "      <th>Age</th>\n",
              "      <th>Tenure</th>\n",
              "      <th>Balance</th>\n",
              "      <th>NumOfProducts</th>\n",
              "      <th>HasCrCard</th>\n",
              "      <th>IsActiveMember</th>\n",
              "      <th>EstimatedSalary</th>\n",
              "    </tr>\n",
              "  </thead>\n",
              "  <tbody>\n",
              "    <tr>\n",
              "      <th>0</th>\n",
              "      <td>-0.464183</td>\n",
              "      <td>-0.326221</td>\n",
              "      <td>-0.901886</td>\n",
              "      <td>-1.095988</td>\n",
              "      <td>0.293621</td>\n",
              "      <td>-1.041760</td>\n",
              "      <td>-1.225848</td>\n",
              "      <td>-0.911583</td>\n",
              "      <td>0.646092</td>\n",
              "      <td>0.970243</td>\n",
              "      <td>0.021886</td>\n",
              "    </tr>\n",
              "    <tr>\n",
              "      <th>1</th>\n",
              "      <td>-0.390911</td>\n",
              "      <td>-0.440036</td>\n",
              "      <td>1.515067</td>\n",
              "      <td>-1.095988</td>\n",
              "      <td>0.198207</td>\n",
              "      <td>-1.387538</td>\n",
              "      <td>0.117350</td>\n",
              "      <td>-0.911583</td>\n",
              "      <td>-1.547768</td>\n",
              "      <td>0.970243</td>\n",
              "      <td>0.216534</td>\n",
              "    </tr>\n",
              "    <tr>\n",
              "      <th>2</th>\n",
              "      <td>0.628988</td>\n",
              "      <td>-1.536794</td>\n",
              "      <td>-0.901886</td>\n",
              "      <td>-1.095988</td>\n",
              "      <td>0.293621</td>\n",
              "      <td>1.032908</td>\n",
              "      <td>1.333053</td>\n",
              "      <td>2.527057</td>\n",
              "      <td>0.646092</td>\n",
              "      <td>-1.030670</td>\n",
              "      <td>0.240687</td>\n",
              "    </tr>\n",
              "    <tr>\n",
              "      <th>3</th>\n",
              "      <td>-1.440356</td>\n",
              "      <td>0.501521</td>\n",
              "      <td>-0.901886</td>\n",
              "      <td>-1.095988</td>\n",
              "      <td>0.007377</td>\n",
              "      <td>-1.387538</td>\n",
              "      <td>-1.225848</td>\n",
              "      <td>0.807737</td>\n",
              "      <td>-1.547768</td>\n",
              "      <td>-1.030670</td>\n",
              "      <td>-0.108918</td>\n",
              "    </tr>\n",
              "    <tr>\n",
              "      <th>4</th>\n",
              "      <td>0.371354</td>\n",
              "      <td>2.063884</td>\n",
              "      <td>1.515067</td>\n",
              "      <td>-1.095988</td>\n",
              "      <td>0.389036</td>\n",
              "      <td>-1.041760</td>\n",
              "      <td>0.785728</td>\n",
              "      <td>-0.911583</td>\n",
              "      <td>0.646092</td>\n",
              "      <td>0.970243</td>\n",
              "      <td>-0.365276</td>\n",
              "    </tr>\n",
              "  </tbody>\n",
              "</table>\n",
              "</div>"
            ],
            "text/plain": [
              "    Surname  CreditScore  Geography    Gender       Age    Tenure   Balance  \\\n",
              "0 -0.464183    -0.326221  -0.901886 -1.095988  0.293621 -1.041760 -1.225848   \n",
              "1 -0.390911    -0.440036   1.515067 -1.095988  0.198207 -1.387538  0.117350   \n",
              "2  0.628988    -1.536794  -0.901886 -1.095988  0.293621  1.032908  1.333053   \n",
              "3 -1.440356     0.501521  -0.901886 -1.095988  0.007377 -1.387538 -1.225848   \n",
              "4  0.371354     2.063884   1.515067 -1.095988  0.389036 -1.041760  0.785728   \n",
              "\n",
              "   NumOfProducts  HasCrCard  IsActiveMember  EstimatedSalary  \n",
              "0      -0.911583   0.646092        0.970243         0.021886  \n",
              "1      -0.911583  -1.547768        0.970243         0.216534  \n",
              "2       2.527057   0.646092       -1.030670         0.240687  \n",
              "3       0.807737  -1.547768       -1.030670        -0.108918  \n",
              "4      -0.911583   0.646092        0.970243        -0.365276  "
            ]
          },
          "metadata": {
            "tags": []
          },
          "execution_count": 19
        }
      ]
    },
    {
      "cell_type": "markdown",
      "metadata": {
        "id": "mn4guOTEmKlj"
      },
      "source": [
        "### 4.5 Train - Test Split\n",
        "\n",
        "Split the dataset in training and test set"
      ]
    },
    {
      "cell_type": "code",
      "metadata": {
        "id": "hOr6GdatmKlk"
      },
      "source": [
        "# Split the dataset into the training set and test set\n",
        "X_train, X_test, y_train, y_test = train_test_split(scaled_X, y, test_size = 0.3, random_state = 0)"
      ],
      "execution_count": null,
      "outputs": []
    },
    {
      "cell_type": "markdown",
      "metadata": {
        "id": "CabrtlUhmKlk"
      },
      "source": [
        "<div class=\"alert alert-info\" style=\"background-color:#006a79; color:white; padding:0px 10px; border-radius:5px;\"><h2 style='margin:10px 5px'>5. Model Building</h2>\n",
        "</div>\n",
        "\n",
        "In this section you will:\n",
        "- Train the model on training data\n",
        "- Get the predictions on testing data\n",
        "- Evaluate the performance of model on testing data"
      ]
    },
    {
      "cell_type": "markdown",
      "metadata": {
        "id": "8ZhhSBxwmKlk"
      },
      "source": [
        "### 5.1 Train Model\n",
        "\n",
        "Train the logistic regression model on training data"
      ]
    },
    {
      "cell_type": "code",
      "metadata": {
        "id": "_KUheQHumKlk",
        "outputId": "6eebe9f1-2212-4801-df03-2f6eac6eb88d"
      },
      "source": [
        "# Defining the model \n",
        "model = LogisticRegression(random_state=0)\n",
        "# model = DecisionTreeClassifier(random_state=0)\n",
        "\n",
        "# Training the model:\n",
        "model.fit(X_train, y_train)\n",
        "\n",
        "model"
      ],
      "execution_count": null,
      "outputs": [
        {
          "output_type": "execute_result",
          "data": {
            "text/plain": [
              "LogisticRegression(C=1.0, class_weight=None, dual=False, fit_intercept=True,\n",
              "                   intercept_scaling=1, l1_ratio=None, max_iter=100,\n",
              "                   multi_class='auto', n_jobs=None, penalty='l2',\n",
              "                   random_state=0, solver='lbfgs', tol=0.0001, verbose=0,\n",
              "                   warm_start=False)"
            ]
          },
          "metadata": {
            "tags": []
          },
          "execution_count": 21
        }
      ]
    },
    {
      "cell_type": "markdown",
      "metadata": {
        "id": "q-gV-u5mmKll"
      },
      "source": [
        "### 5.2 Model Predictions\n",
        "\n",
        "Get the predictions from the model on testing data"
      ]
    },
    {
      "cell_type": "code",
      "metadata": {
        "id": "J3HUd-dmmKll",
        "outputId": "dc81613f-da5a-4ce4-ed23-3a6fa90693f1"
      },
      "source": [
        "# Predict class for test dataset\n",
        "y_pred = model.predict(X_test)\n",
        "\n",
        "# Predict probability for test dataset\n",
        "y_pred_prod = model.predict_proba(X_test)\n",
        "y_pred_prod = [x[1] for x in y_pred_prod]\n",
        "print(\"Y predicted : \",y_pred)\n",
        "print(\"Y probability predicted : \",y_pred_prod[:5])"
      ],
      "execution_count": null,
      "outputs": [
        {
          "output_type": "stream",
          "text": [
            "Y predicted :  [0 0 0 ... 0 0 0]\n",
            "Y probability predicted :  [0.15028993372247473, 0.40348523298833217, 0.18960139980549454, 0.1402526159936366, 0.11542139569731145]\n"
          ],
          "name": "stdout"
        }
      ]
    },
    {
      "cell_type": "markdown",
      "metadata": {
        "id": "MTIaxMQ4mKll"
      },
      "source": [
        "### 5.3. Model Evaluation\n",
        "\n",
        "Get the evaluation metrics to evaluate the performance of model on testing data"
      ]
    },
    {
      "cell_type": "code",
      "metadata": {
        "id": "pxHO0DZqmKll"
      },
      "source": [
        "# Define a function to compute various evaluation metrics \n",
        "def compute_evaluation_metric(y_actual, y_predicted):\n",
        "    print(\"\\n Accuracy Score : \\n \",accuracy_score(y_actual,y_predicted))\n",
        "    print(\"\\n Confusion Matrix : \\n \",confusion_matrix(y_actual, y_predicted))\n",
        "    print(\"\\n Classification Report : \\n\",classification_report(y_actual, y_predicted))"
      ],
      "execution_count": null,
      "outputs": []
    },
    {
      "cell_type": "code",
      "metadata": {
        "id": "6zdqczkEmKlm",
        "outputId": "03aa77ec-813a-4bd5-b25a-2ae6e94071ee"
      },
      "source": [
        "# Compute Evaluation Metric\n",
        "compute_evaluation_metric(y_test, y_pred)"
      ],
      "execution_count": null,
      "outputs": [
        {
          "output_type": "stream",
          "text": [
            "\n",
            " Accuracy Score : \n",
            "  0.8033333333333333\n",
            "\n",
            " Confusion Matrix : \n",
            "  [[2302   77]\n",
            " [ 513  108]]\n",
            "\n",
            " Classification Report : \n",
            "               precision    recall  f1-score   support\n",
            "\n",
            "           0       0.82      0.97      0.89      2379\n",
            "           1       0.58      0.17      0.27       621\n",
            "\n",
            "    accuracy                           0.80      3000\n",
            "   macro avg       0.70      0.57      0.58      3000\n",
            "weighted avg       0.77      0.80      0.76      3000\n",
            "\n"
          ],
          "name": "stdout"
        }
      ]
    },
    {
      "cell_type": "markdown",
      "metadata": {
        "id": "BhsB7cWemKlm"
      },
      "source": [
        "<div class=\"alert alert-info\" style=\"background-color:#006a79; color:white; padding:0px 10px; border-radius:5px;\"><h2 style='margin:10px 5px'>6. Improve Model</h2>\n",
        "</div>\n",
        "\n",
        "The first model you make may not be a good one. You need to improve the model. \n",
        "\n",
        "In majority of the classification problems, the target class is imbalanced. So you need to balance it in order to get best modelling results. \n",
        "\n",
        "In this section you will:\n",
        "- Handle class imbalance\n",
        "- Save the final model"
      ]
    },
    {
      "cell_type": "markdown",
      "metadata": {
        "id": "2XlygXeUmKlm"
      },
      "source": [
        "### 6.1 Handle Class Imbalance\n",
        "\n",
        "Imbalanced classes are a common problem in machine learning classification where there are a disproportionate ratio of observations in each class.\n",
        "\n",
        "Most machine learning algorithms work best when the number of samples in each class are about equal. This is because most algorithms are designed to maximize accuracy and reduce error.\n",
        "\n",
        "Here, you will upsample the minority class"
      ]
    },
    {
      "cell_type": "code",
      "metadata": {
        "id": "LM80JS_smKlm",
        "outputId": "620a0009-9b2b-4cda-f47e-79d0225af827"
      },
      "source": [
        "# Over sample the minority class \n",
        "ros = RandomOverSampler()\n",
        "X_ros, y_ros = ros.fit_sample(X, y)\n",
        "\n",
        "y_ros.value_counts()"
      ],
      "execution_count": null,
      "outputs": [
        {
          "output_type": "execute_result",
          "data": {
            "text/plain": [
              "1    7963\n",
              "0    7963\n",
              "Name: Exited, dtype: int64"
            ]
          },
          "metadata": {
            "tags": []
          },
          "execution_count": 25
        }
      ]
    },
    {
      "cell_type": "code",
      "metadata": {
        "id": "_jYWRHE6mKln"
      },
      "source": [
        "# Define the function to build model on balanced dataset\n",
        "def classification_model(X, y):\n",
        "    \n",
        "    scaled_X = scale_data(X)\n",
        "    \n",
        "    # Split the dataset into the training set and test set\n",
        "    X_train, X_test, y_train, y_test = train_test_split(scaled_X, y, test_size = 0.3, random_state = 0)\n",
        "    \n",
        "    # Defining the model \n",
        "    model = LogisticRegression(random_state=0)\n",
        "\n",
        "    # Training the model:\n",
        "    model.fit(X_train, y_train)\n",
        "\n",
        "    # Predict class for test dataset\n",
        "    y_pred = model.predict(X_test)\n",
        "    \n",
        "    # Compute Evaluation Metric\n",
        "    compute_evaluation_metric(y_test, y_pred)\n",
        "    \n",
        "    return model"
      ],
      "execution_count": null,
      "outputs": []
    },
    {
      "cell_type": "code",
      "metadata": {
        "id": "NIjBwM8vmKlo",
        "outputId": "75571885-9222-4e23-c7dc-f46e2c896c7a"
      },
      "source": [
        "# Build model on balanced data and get evaluation metrics\n",
        "model = classification_model(X_ros, y_ros)"
      ],
      "execution_count": null,
      "outputs": [
        {
          "output_type": "stream",
          "text": [
            "\n",
            " Accuracy Score : \n",
            "  0.6975722059439096\n",
            "\n",
            " Confusion Matrix : \n",
            "  [[1678  706]\n",
            " [ 739 1655]]\n",
            "\n",
            " Classification Report : \n",
            "               precision    recall  f1-score   support\n",
            "\n",
            "           0       0.69      0.70      0.70      2384\n",
            "           1       0.70      0.69      0.70      2394\n",
            "\n",
            "    accuracy                           0.70      4778\n",
            "   macro avg       0.70      0.70      0.70      4778\n",
            "weighted avg       0.70      0.70      0.70      4778\n",
            "\n"
          ],
          "name": "stdout"
        }
      ]
    },
    {
      "cell_type": "markdown",
      "metadata": {
        "id": "TbD-CuPtmKlo"
      },
      "source": [
        "### 6.2 Save the final model\n",
        "\n",
        "You can save the model in local disk and use it whenever you want"
      ]
    },
    {
      "cell_type": "code",
      "metadata": {
        "id": "Ays-aOV0mKlo"
      },
      "source": [
        "# save the model to disk\n",
        "filename = 'final_model.sav'\n",
        "pickle.dump(model, open(filename, 'wb'))"
      ],
      "execution_count": null,
      "outputs": []
    },
    {
      "cell_type": "code",
      "metadata": {
        "id": "qhsgYfgzmKlo",
        "outputId": "d2fd4bcc-c4d5-4691-b301-27d59e1c5436"
      },
      "source": [
        "# load the model from disk\n",
        "loaded_model = pickle.load(open(filename, 'rb'))\n",
        "loaded_model"
      ],
      "execution_count": null,
      "outputs": [
        {
          "output_type": "execute_result",
          "data": {
            "text/plain": [
              "LogisticRegression(C=1.0, class_weight=None, dual=False, fit_intercept=True,\n",
              "                   intercept_scaling=1, l1_ratio=None, max_iter=100,\n",
              "                   multi_class='auto', n_jobs=None, penalty='l2',\n",
              "                   random_state=0, solver='lbfgs', tol=0.0001, verbose=0,\n",
              "                   warm_start=False)"
            ]
          },
          "metadata": {
            "tags": []
          },
          "execution_count": 35
        }
      ]
    },
    {
      "cell_type": "markdown",
      "metadata": {
        "id": "Bdrd1ml8mKlp"
      },
      "source": [
        "<div class=\"alert\" style=\"background-color:#696969; color:white; padding:0px 10px; border-radius:5px;\"><h3 style='margin:15px 15px; font-size:12px'> All Rights Reserved. This notebook is proprietary content of machinelearningplus.com. This can be shared solely for educational purposes, with due credits to machinelearningplus.com</h3>\n",
        "</div>\n",
        "\n"
      ]
    }
  ]
}